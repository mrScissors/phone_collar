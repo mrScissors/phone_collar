{
 "cells": [
  {
   "cell_type": "code",
   "execution_count": 21,
   "id": "8b9fe476-09b9-42f0-a87a-a925f98dc92b",
   "metadata": {},
   "outputs": [],
   "source": [
    "import pandas as pd\n",
    "import re\n",
    "import numpy as np\n",
    "import json"
   ]
  },
  {
   "cell_type": "code",
   "execution_count": 2,
   "id": "8a5dc239-cac1-4711-a39e-083e96332207",
   "metadata": {},
   "outputs": [
    {
     "name": "stderr",
     "output_type": "stream",
     "text": [
      "C:\\Users\\admin\\AppData\\Local\\Temp\\ipykernel_7432\\1142141599.py:2: FutureWarning: Setting an item of incompatible dtype is deprecated and will raise an error in a future version of pandas. Value '' has dtype incompatible with float64, please explicitly cast to a compatible dtype first.\n",
      "  df.fillna('', inplace=True)\n"
     ]
    }
   ],
   "source": [
    "df = pd.read_csv('contacts.csv',low_memory=False)\n",
    "df.fillna('', inplace=True)"
   ]
  },
  {
   "cell_type": "code",
   "execution_count": 3,
   "id": "a4fdc064-9472-462c-b515-d676883e9dc1",
   "metadata": {},
   "outputs": [
    {
     "data": {
      "text/html": [
       "<div>\n",
       "<style scoped>\n",
       "    .dataframe tbody tr th:only-of-type {\n",
       "        vertical-align: middle;\n",
       "    }\n",
       "\n",
       "    .dataframe tbody tr th {\n",
       "        vertical-align: top;\n",
       "    }\n",
       "\n",
       "    .dataframe thead th {\n",
       "        text-align: right;\n",
       "    }\n",
       "</style>\n",
       "<table border=\"1\" class=\"dataframe\">\n",
       "  <thead>\n",
       "    <tr style=\"text-align: right;\">\n",
       "      <th></th>\n",
       "      <th>First Name</th>\n",
       "      <th>Middle Name</th>\n",
       "      <th>Last Name</th>\n",
       "      <th>Phonetic First Name</th>\n",
       "      <th>Phonetic Middle Name</th>\n",
       "      <th>Phonetic Last Name</th>\n",
       "      <th>Name Prefix</th>\n",
       "      <th>Name Suffix</th>\n",
       "      <th>Nickname</th>\n",
       "      <th>File As</th>\n",
       "      <th>...</th>\n",
       "      <th>Address 2 - Region</th>\n",
       "      <th>Address 2 - Postal Code</th>\n",
       "      <th>Address 2 - Country</th>\n",
       "      <th>Address 2 - Extended Address</th>\n",
       "      <th>Website 1 - Label</th>\n",
       "      <th>Website 1 - Value</th>\n",
       "      <th>Event 1 - Label</th>\n",
       "      <th>Event 1 - Value</th>\n",
       "      <th>Custom Field 1 - Label</th>\n",
       "      <th>Custom Field 1 - Value</th>\n",
       "    </tr>\n",
       "  </thead>\n",
       "  <tbody>\n",
       "    <tr>\n",
       "      <th>0</th>\n",
       "      <td>. Forward Call K1 श्री.ग.म.स.महागांव</td>\n",
       "      <td></td>\n",
       "      <td></td>\n",
       "      <td></td>\n",
       "      <td></td>\n",
       "      <td></td>\n",
       "      <td></td>\n",
       "      <td></td>\n",
       "      <td></td>\n",
       "      <td></td>\n",
       "      <td>...</td>\n",
       "      <td></td>\n",
       "      <td></td>\n",
       "      <td></td>\n",
       "      <td></td>\n",
       "      <td></td>\n",
       "      <td></td>\n",
       "      <td></td>\n",
       "      <td></td>\n",
       "      <td></td>\n",
       "      <td></td>\n",
       "    </tr>\n",
       "    <tr>\n",
       "      <th>1</th>\n",
       "      <td>.RYR R10 Kulkarni</td>\n",
       "      <td></td>\n",
       "      <td></td>\n",
       "      <td></td>\n",
       "      <td></td>\n",
       "      <td></td>\n",
       "      <td></td>\n",
       "      <td></td>\n",
       "      <td></td>\n",
       "      <td></td>\n",
       "      <td>...</td>\n",
       "      <td></td>\n",
       "      <td></td>\n",
       "      <td></td>\n",
       "      <td></td>\n",
       "      <td></td>\n",
       "      <td></td>\n",
       "      <td></td>\n",
       "      <td></td>\n",
       "      <td></td>\n",
       "      <td></td>\n",
       "    </tr>\n",
       "    <tr>\n",
       "      <th>2</th>\n",
       "      <td>+91</td>\n",
       "      <td>72189</td>\n",
       "      <td>83234</td>\n",
       "      <td></td>\n",
       "      <td></td>\n",
       "      <td></td>\n",
       "      <td></td>\n",
       "      <td></td>\n",
       "      <td></td>\n",
       "      <td></td>\n",
       "      <td>...</td>\n",
       "      <td></td>\n",
       "      <td></td>\n",
       "      <td></td>\n",
       "      <td></td>\n",
       "      <td></td>\n",
       "      <td></td>\n",
       "      <td></td>\n",
       "      <td></td>\n",
       "      <td></td>\n",
       "      <td></td>\n",
       "    </tr>\n",
       "    <tr>\n",
       "      <th>3</th>\n",
       "      <td></td>\n",
       "      <td></td>\n",
       "      <td></td>\n",
       "      <td></td>\n",
       "      <td></td>\n",
       "      <td></td>\n",
       "      <td></td>\n",
       "      <td></td>\n",
       "      <td></td>\n",
       "      <td></td>\n",
       "      <td>...</td>\n",
       "      <td></td>\n",
       "      <td></td>\n",
       "      <td></td>\n",
       "      <td></td>\n",
       "      <td></td>\n",
       "      <td></td>\n",
       "      <td></td>\n",
       "      <td></td>\n",
       "      <td></td>\n",
       "      <td></td>\n",
       "    </tr>\n",
       "    <tr>\n",
       "      <th>4</th>\n",
       "      <td></td>\n",
       "      <td></td>\n",
       "      <td></td>\n",
       "      <td></td>\n",
       "      <td></td>\n",
       "      <td></td>\n",
       "      <td></td>\n",
       "      <td></td>\n",
       "      <td></td>\n",
       "      <td></td>\n",
       "      <td>...</td>\n",
       "      <td></td>\n",
       "      <td></td>\n",
       "      <td></td>\n",
       "      <td></td>\n",
       "      <td></td>\n",
       "      <td></td>\n",
       "      <td></td>\n",
       "      <td></td>\n",
       "      <td></td>\n",
       "      <td></td>\n",
       "    </tr>\n",
       "  </tbody>\n",
       "</table>\n",
       "<p>5 rows × 51 columns</p>\n",
       "</div>"
      ],
      "text/plain": [
       "                             First Name Middle Name Last Name  \\\n",
       "0  . Forward Call K1 श्री.ग.म.स.महागांव                         \n",
       "1                    .RYR R10 Kulkarni                          \n",
       "2                                   +91       72189     83234   \n",
       "3                                                               \n",
       "4                                                               \n",
       "\n",
       "  Phonetic First Name Phonetic Middle Name Phonetic Last Name Name Prefix  \\\n",
       "0                                                                           \n",
       "1                                                                           \n",
       "2                                                                           \n",
       "3                                                                           \n",
       "4                                                                           \n",
       "\n",
       "  Name Suffix Nickname File As  ... Address 2 - Region  \\\n",
       "0                               ...                      \n",
       "1                               ...                      \n",
       "2                               ...                      \n",
       "3                               ...                      \n",
       "4                               ...                      \n",
       "\n",
       "  Address 2 - Postal Code Address 2 - Country Address 2 - Extended Address  \\\n",
       "0                                                                            \n",
       "1                                                                            \n",
       "2                                                                            \n",
       "3                                                                            \n",
       "4                                                                            \n",
       "\n",
       "  Website 1 - Label Website 1 - Value Event 1 - Label Event 1 - Value  \\\n",
       "0                                                                       \n",
       "1                                                                       \n",
       "2                                                                       \n",
       "3                                                                       \n",
       "4                                                                       \n",
       "\n",
       "  Custom Field 1 - Label Custom Field 1 - Value  \n",
       "0                                                \n",
       "1                                                \n",
       "2                                                \n",
       "3                                                \n",
       "4                                                \n",
       "\n",
       "[5 rows x 51 columns]"
      ]
     },
     "execution_count": 3,
     "metadata": {},
     "output_type": "execute_result"
    }
   ],
   "source": [
    "df.head()"
   ]
  },
  {
   "cell_type": "code",
   "execution_count": 4,
   "id": "240ec999-ee22-424f-9687-43a01477d20a",
   "metadata": {},
   "outputs": [
    {
     "data": {
      "text/plain": [
       "0                      +91 95450 09773\n",
       "1    +91 92268 32192 ::: +919226832192\n",
       "2      +917218983234 ::: +917218983234\n",
       "3                      +91 98503 25931\n",
       "4                        +916355290597\n",
       "Name: Phone 1 - Value, dtype: object"
      ]
     },
     "execution_count": 4,
     "metadata": {},
     "output_type": "execute_result"
    }
   ],
   "source": [
    "df['Phone 1 - Value'].head()"
   ]
  },
  {
   "cell_type": "code",
   "execution_count": 5,
   "id": "9b9da76f-66d1-47b1-a325-c650b2ee5757",
   "metadata": {},
   "outputs": [],
   "source": [
    "df['Phone 1 - Value2'] = df['Phone 1 - Value'].str.split(' ::: ').str[1]\n",
    "df['Phone 1 - Value'] = df['Phone 1 - Value'].str.split(' ::: ').str[0]\n"
   ]
  },
  {
   "cell_type": "code",
   "execution_count": 6,
   "id": "9de8f751-6661-4eaa-8112-217625de8095",
   "metadata": {},
   "outputs": [
    {
     "data": {
      "text/plain": [
       "0    +91 95450 09773\n",
       "1    +91 92268 32192\n",
       "2      +917218983234\n",
       "3    +91 98503 25931\n",
       "4      +916355290597\n",
       "Name: Phone 1 - Value, dtype: object"
      ]
     },
     "execution_count": 6,
     "metadata": {},
     "output_type": "execute_result"
    }
   ],
   "source": [
    "df['Phone 1 - Value'].head()"
   ]
  },
  {
   "cell_type": "code",
   "execution_count": 7,
   "id": "2d6ccff6-6818-4a45-8949-a76b5c41743b",
   "metadata": {},
   "outputs": [
    {
     "data": {
      "text/plain": [
       "0              NaN\n",
       "1    +919226832192\n",
       "2    +917218983234\n",
       "3              NaN\n",
       "4              NaN\n",
       "Name: Phone 1 - Value2, dtype: object"
      ]
     },
     "execution_count": 7,
     "metadata": {},
     "output_type": "execute_result"
    }
   ],
   "source": [
    "df['Phone 1 - Value2'].head()"
   ]
  },
  {
   "cell_type": "code",
   "execution_count": 8,
   "id": "79c6fb82-4542-447e-80cc-75759131238b",
   "metadata": {},
   "outputs": [],
   "source": [
    "df['Phone 2 - Value'] = df['Phone 1 - Value2'].astype(str) + df['Phone 2 - Value'].where(df['Phone 2 - Value'].notna(), '')"
   ]
  },
  {
   "cell_type": "code",
   "execution_count": 9,
   "id": "1b708bcf-dba7-4044-9bcc-a105bf4b123d",
   "metadata": {},
   "outputs": [
    {
     "data": {
      "text/plain": [
       "0              nan\n",
       "1    +919226832192\n",
       "2    +917218983234\n",
       "3              nan\n",
       "4              nan\n",
       "Name: Phone 2 - Value, dtype: object"
      ]
     },
     "execution_count": 9,
     "metadata": {},
     "output_type": "execute_result"
    }
   ],
   "source": [
    "df['Phone 2 - Value'].head()"
   ]
  },
  {
   "cell_type": "code",
   "execution_count": 10,
   "id": "8a7c4f1f-894f-4893-bcb1-221ce4ec61b1",
   "metadata": {},
   "outputs": [],
   "source": [
    "def clean_phone_number(phone):\n",
    "    numeric_phone = re.sub(r'\\D', '', str(phone))  # Remove all non-numeric characters\n",
    "    return numeric_phone[-10:]  # Keep only the last 10 digits"
   ]
  },
  {
   "cell_type": "code",
   "execution_count": 11,
   "id": "f52e91c2-deaf-4b99-983f-9b2041cca999",
   "metadata": {},
   "outputs": [],
   "source": [
    "df['Phone 1 - Value'] = df['Phone 1 - Value'].apply(clean_phone_number)\n",
    "df['Phone 2 - Value'] = df['Phone 2 - Value'].apply(clean_phone_number)\n",
    "df['Phone 3 - Value'] = df['Phone 3 - Value'].apply(clean_phone_number)"
   ]
  },
  {
   "cell_type": "code",
   "execution_count": 12,
   "id": "1ed437ce-33a7-43f2-86f7-cc022196b5c6",
   "metadata": {},
   "outputs": [],
   "source": [
    "df.drop('Phone 1 - Value2', axis=1, inplace=True)"
   ]
  },
  {
   "cell_type": "code",
   "execution_count": 13,
   "id": "95e181e6-f67f-4920-8ac7-de79f5c54dd6",
   "metadata": {},
   "outputs": [],
   "source": [
    "def normalize_name(name: str) -> str:\n",
    "    # This pattern removes any character that is not a letter or digit.\n",
    "    return re.sub(r'[^a-z0-9]', '', name.lower())"
   ]
  },
  {
   "cell_type": "code",
   "execution_count": 14,
   "id": "a4382320-43dd-4023-b2ca-0bd1e3e6b008",
   "metadata": {},
   "outputs": [],
   "source": [
    "df['total_name'] = df['First Name'] + df['Middle Name'] + df['Last Name']"
   ]
  },
  {
   "cell_type": "code",
   "execution_count": 15,
   "id": "e7a6abdf-01c9-48e1-ac38-502144ef4fae",
   "metadata": {},
   "outputs": [],
   "source": [
    "df['searchName'] = df['total_name'].apply(normalize_name)"
   ]
  },
  {
   "cell_type": "code",
   "execution_count": 16,
   "id": "2323690d-d6d9-4fd7-b3d7-8d328a724cfd",
   "metadata": {},
   "outputs": [],
   "source": [
    "df.drop('total_name', axis=1, inplace=True)"
   ]
  },
  {
   "cell_type": "code",
   "execution_count": 17,
   "id": "5153f2ad-6466-41f3-b2b5-625f6c880b9c",
   "metadata": {},
   "outputs": [],
   "source": [
    "df.to_csv('updatedContacts.csv')"
   ]
  },
  {
   "cell_type": "code",
   "execution_count": 18,
   "id": "62dac129-700b-4ca6-a7d9-da5a5db15072",
   "metadata": {},
   "outputs": [],
   "source": [
    "updatedDf = pd.read_csv('updatedContacts.csv',low_memory=False)\n",
    "updatedDf = updatedDf.replace({np.nan: None})\n",
    "updatedDf['Phone 1 - Value'] = pd.to_numeric(updatedDf['Phone 1 - Value'], errors='coerce').astype('Int64')\n",
    "updatedDf['Phone 2 - Value'] = pd.to_numeric(updatedDf['Phone 2 - Value'], errors='coerce').astype('Int64')\n",
    "updatedDf['Phone 3 - Value'] = pd.to_numeric(updatedDf['Phone 3 - Value'], errors='coerce').astype('Int64')\n",
    "updatedDf = updatedDf.astype(str)"
   ]
  },
  {
   "cell_type": "code",
   "execution_count": 27,
   "id": "d29caf28-61ee-4832-a800-7e644cfe8514",
   "metadata": {},
   "outputs": [],
   "source": [
    "updatedDf['employeeName'] = 'Initial contacts' "
   ]
  },
  {
   "cell_type": "code",
   "execution_count": 31,
   "id": "79fc5e44-376b-459a-b64a-be0672282aab",
   "metadata": {},
   "outputs": [
    {
     "data": {
      "text/html": [
       "<div>\n",
       "<style scoped>\n",
       "    .dataframe tbody tr th:only-of-type {\n",
       "        vertical-align: middle;\n",
       "    }\n",
       "\n",
       "    .dataframe tbody tr th {\n",
       "        vertical-align: top;\n",
       "    }\n",
       "\n",
       "    .dataframe thead th {\n",
       "        text-align: right;\n",
       "    }\n",
       "</style>\n",
       "<table border=\"1\" class=\"dataframe\">\n",
       "  <thead>\n",
       "    <tr style=\"text-align: right;\">\n",
       "      <th></th>\n",
       "      <th>Unnamed: 0</th>\n",
       "      <th>First Name</th>\n",
       "      <th>Middle Name</th>\n",
       "      <th>Last Name</th>\n",
       "      <th>Phonetic First Name</th>\n",
       "      <th>Phonetic Middle Name</th>\n",
       "      <th>Phonetic Last Name</th>\n",
       "      <th>Name Prefix</th>\n",
       "      <th>Name Suffix</th>\n",
       "      <th>Nickname</th>\n",
       "      <th>...</th>\n",
       "      <th>Address 2 - Country</th>\n",
       "      <th>Address 2 - Extended Address</th>\n",
       "      <th>Website 1 - Label</th>\n",
       "      <th>Website 1 - Value</th>\n",
       "      <th>Event 1 - Label</th>\n",
       "      <th>Event 1 - Value</th>\n",
       "      <th>Custom Field 1 - Label</th>\n",
       "      <th>Custom Field 1 - Value</th>\n",
       "      <th>searchName</th>\n",
       "      <th>employeeName</th>\n",
       "    </tr>\n",
       "  </thead>\n",
       "  <tbody>\n",
       "    <tr>\n",
       "      <th>0</th>\n",
       "      <td>0</td>\n",
       "      <td>. Forward Call K1 श्री.ग.म.स.महागांव</td>\n",
       "      <td>None</td>\n",
       "      <td>None</td>\n",
       "      <td>None</td>\n",
       "      <td>None</td>\n",
       "      <td>None</td>\n",
       "      <td>None</td>\n",
       "      <td>None</td>\n",
       "      <td>None</td>\n",
       "      <td>...</td>\n",
       "      <td>None</td>\n",
       "      <td>None</td>\n",
       "      <td>None</td>\n",
       "      <td>None</td>\n",
       "      <td>None</td>\n",
       "      <td>None</td>\n",
       "      <td>None</td>\n",
       "      <td>None</td>\n",
       "      <td>forwardcallk1</td>\n",
       "      <td>Initial contacts</td>\n",
       "    </tr>\n",
       "    <tr>\n",
       "      <th>1</th>\n",
       "      <td>1</td>\n",
       "      <td>.RYR R10 Kulkarni</td>\n",
       "      <td>None</td>\n",
       "      <td>None</td>\n",
       "      <td>None</td>\n",
       "      <td>None</td>\n",
       "      <td>None</td>\n",
       "      <td>None</td>\n",
       "      <td>None</td>\n",
       "      <td>None</td>\n",
       "      <td>...</td>\n",
       "      <td>None</td>\n",
       "      <td>None</td>\n",
       "      <td>None</td>\n",
       "      <td>None</td>\n",
       "      <td>None</td>\n",
       "      <td>None</td>\n",
       "      <td>None</td>\n",
       "      <td>None</td>\n",
       "      <td>ryrr10kulkarni</td>\n",
       "      <td>Initial contacts</td>\n",
       "    </tr>\n",
       "    <tr>\n",
       "      <th>2</th>\n",
       "      <td>2</td>\n",
       "      <td>+91</td>\n",
       "      <td>72189</td>\n",
       "      <td>83234</td>\n",
       "      <td>None</td>\n",
       "      <td>None</td>\n",
       "      <td>None</td>\n",
       "      <td>None</td>\n",
       "      <td>None</td>\n",
       "      <td>None</td>\n",
       "      <td>...</td>\n",
       "      <td>None</td>\n",
       "      <td>None</td>\n",
       "      <td>None</td>\n",
       "      <td>None</td>\n",
       "      <td>None</td>\n",
       "      <td>None</td>\n",
       "      <td>None</td>\n",
       "      <td>None</td>\n",
       "      <td>917218983234</td>\n",
       "      <td>Initial contacts</td>\n",
       "    </tr>\n",
       "    <tr>\n",
       "      <th>3</th>\n",
       "      <td>3</td>\n",
       "      <td>None</td>\n",
       "      <td>None</td>\n",
       "      <td>None</td>\n",
       "      <td>None</td>\n",
       "      <td>None</td>\n",
       "      <td>None</td>\n",
       "      <td>None</td>\n",
       "      <td>None</td>\n",
       "      <td>None</td>\n",
       "      <td>...</td>\n",
       "      <td>None</td>\n",
       "      <td>None</td>\n",
       "      <td>None</td>\n",
       "      <td>None</td>\n",
       "      <td>None</td>\n",
       "      <td>None</td>\n",
       "      <td>None</td>\n",
       "      <td>None</td>\n",
       "      <td>None</td>\n",
       "      <td>Initial contacts</td>\n",
       "    </tr>\n",
       "    <tr>\n",
       "      <th>4</th>\n",
       "      <td>4</td>\n",
       "      <td>None</td>\n",
       "      <td>None</td>\n",
       "      <td>None</td>\n",
       "      <td>None</td>\n",
       "      <td>None</td>\n",
       "      <td>None</td>\n",
       "      <td>None</td>\n",
       "      <td>None</td>\n",
       "      <td>None</td>\n",
       "      <td>...</td>\n",
       "      <td>None</td>\n",
       "      <td>None</td>\n",
       "      <td>None</td>\n",
       "      <td>None</td>\n",
       "      <td>None</td>\n",
       "      <td>None</td>\n",
       "      <td>None</td>\n",
       "      <td>None</td>\n",
       "      <td>None</td>\n",
       "      <td>Initial contacts</td>\n",
       "    </tr>\n",
       "  </tbody>\n",
       "</table>\n",
       "<p>5 rows × 54 columns</p>\n",
       "</div>"
      ],
      "text/plain": [
       "  Unnamed: 0                            First Name Middle Name Last Name  \\\n",
       "0          0  . Forward Call K1 श्री.ग.म.स.महागांव        None      None   \n",
       "1          1                    .RYR R10 Kulkarni         None      None   \n",
       "2          2                                   +91       72189     83234   \n",
       "3          3                                  None        None      None   \n",
       "4          4                                  None        None      None   \n",
       "\n",
       "  Phonetic First Name Phonetic Middle Name Phonetic Last Name Name Prefix  \\\n",
       "0                None                 None               None        None   \n",
       "1                None                 None               None        None   \n",
       "2                None                 None               None        None   \n",
       "3                None                 None               None        None   \n",
       "4                None                 None               None        None   \n",
       "\n",
       "  Name Suffix Nickname  ... Address 2 - Country Address 2 - Extended Address  \\\n",
       "0        None     None  ...                None                         None   \n",
       "1        None     None  ...                None                         None   \n",
       "2        None     None  ...                None                         None   \n",
       "3        None     None  ...                None                         None   \n",
       "4        None     None  ...                None                         None   \n",
       "\n",
       "  Website 1 - Label Website 1 - Value Event 1 - Label Event 1 - Value  \\\n",
       "0              None              None            None            None   \n",
       "1              None              None            None            None   \n",
       "2              None              None            None            None   \n",
       "3              None              None            None            None   \n",
       "4              None              None            None            None   \n",
       "\n",
       "  Custom Field 1 - Label Custom Field 1 - Value      searchName  \\\n",
       "0                   None                   None   forwardcallk1   \n",
       "1                   None                   None  ryrr10kulkarni   \n",
       "2                   None                   None    917218983234   \n",
       "3                   None                   None            None   \n",
       "4                   None                   None            None   \n",
       "\n",
       "       employeeName  \n",
       "0  Initial contacts  \n",
       "1  Initial contacts  \n",
       "2  Initial contacts  \n",
       "3  Initial contacts  \n",
       "4  Initial contacts  \n",
       "\n",
       "[5 rows x 54 columns]"
      ]
     },
     "execution_count": 31,
     "metadata": {},
     "output_type": "execute_result"
    }
   ],
   "source": [
    "updatedDf.head()"
   ]
  },
  {
   "cell_type": "code",
   "execution_count": 33,
   "id": "ab4d471c-aa58-433d-ae0e-cd8489230a5e",
   "metadata": {},
   "outputs": [],
   "source": [
    "# Convert DataFrame to a list of dictionaries\n",
    "records = updatedDf.to_dict(orient=\"records\")\n",
    "\n",
    "# Wrap the list in a dictionary with the key 'callers'\n",
    "wrapped_data = {\"callers\": records}\n",
    "\n",
    "# Write the wrapped data to a JSON file with indentation for readability\n",
    "with open(\"updatedContacts.json\", \"w\") as json_file:\n",
    "    json.dump(wrapped_data, json_file, indent=2)"
   ]
  },
  {
   "cell_type": "code",
   "execution_count": null,
   "id": "30752f7b-7f32-485d-a469-1da17dc459fa",
   "metadata": {},
   "outputs": [],
   "source": []
  }
 ],
 "metadata": {
  "kernelspec": {
   "display_name": "Python [conda env:base] *",
   "language": "python",
   "name": "conda-base-py"
  },
  "language_info": {
   "codemirror_mode": {
    "name": "ipython",
    "version": 3
   },
   "file_extension": ".py",
   "mimetype": "text/x-python",
   "name": "python",
   "nbconvert_exporter": "python",
   "pygments_lexer": "ipython3",
   "version": "3.12.7"
  }
 },
 "nbformat": 4,
 "nbformat_minor": 5
}
